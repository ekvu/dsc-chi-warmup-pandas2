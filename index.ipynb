{
 "cells": [
  {
   "cell_type": "markdown",
   "metadata": {},
   "source": [
    "# Pandas Warmup\n",
    "\n",
    "Pandas out yer ears"
   ]
  },
  {
   "cell_type": "markdown",
   "metadata": {},
   "source": [
    "Run the cell below w/o changes to load tests"
   ]
  },
  {
   "cell_type": "code",
   "execution_count": 5,
   "metadata": {},
   "outputs": [],
   "source": [
    "#run without changes\n",
    "\n",
    "from test_background import pkl_dump, test_obj_dict, run_test_dict, run_test"
   ]
  },
  {
   "cell_type": "markdown",
   "metadata": {},
   "source": [
    "## Data setup\n",
    "\n",
    "Import: \n",
    "\n",
    "- Pandas under the alias 'pd'\n",
    "\n",
    "- Matplotlib.pyplot under the alias 'plt'\n",
    "\n",
    "Run:\n",
    "- %matplotlib inline"
   ]
  },
  {
   "cell_type": "code",
   "execution_count": 6,
   "metadata": {},
   "outputs": [],
   "source": [
    "#Your code here\n",
    "import pandas as pd\n",
    "import numpy as np\n",
    "import matplotlib.pyplot as plt\n",
    "%matplotlib inline"
   ]
  },
  {
   "cell_type": "markdown",
   "metadata": {},
   "source": [
    "#### Make a dataframe by reading in the csv 'Chicago_Park_District__Movies_in_the_Parks_2019' which is in the \"data\" folder  \n",
    "\n",
    "#### Assign the dataframe to the variable 'movies'\n",
    "\n",
    "#### Look at the first five rows"
   ]
  },
  {
   "cell_type": "code",
   "execution_count": 12,
   "metadata": {},
   "outputs": [
    {
     "data": {
      "text/html": [
       "<div>\n",
       "<style scoped>\n",
       "    .dataframe tbody tr th:only-of-type {\n",
       "        vertical-align: middle;\n",
       "    }\n",
       "\n",
       "    .dataframe tbody tr th {\n",
       "        vertical-align: top;\n",
       "    }\n",
       "\n",
       "    .dataframe thead th {\n",
       "        text-align: right;\n",
       "    }\n",
       "</style>\n",
       "<table border=\"1\" class=\"dataframe\">\n",
       "  <thead>\n",
       "    <tr style=\"text-align: right;\">\n",
       "      <th></th>\n",
       "      <th>Day</th>\n",
       "      <th>Date</th>\n",
       "      <th>Park</th>\n",
       "      <th>Park Phone</th>\n",
       "      <th>Title</th>\n",
       "      <th>CC</th>\n",
       "      <th>Rating</th>\n",
       "      <th>Underwriter</th>\n",
       "      <th>Park Address</th>\n",
       "      <th>Location</th>\n",
       "    </tr>\n",
       "  </thead>\n",
       "  <tbody>\n",
       "    <tr>\n",
       "      <th>0</th>\n",
       "      <td>Mon</td>\n",
       "      <td>08/12/2019</td>\n",
       "      <td>River Park</td>\n",
       "      <td>(312) 742-7516</td>\n",
       "      <td>Hotel Transylvania 3</td>\n",
       "      <td>Y</td>\n",
       "      <td>PG</td>\n",
       "      <td>NaN</td>\n",
       "      <td>5100 N. Francisco Ave.</td>\n",
       "      <td>(41.97406838, -87.70144885)</td>\n",
       "    </tr>\n",
       "    <tr>\n",
       "      <th>1</th>\n",
       "      <td>Thu</td>\n",
       "      <td>07/18/2019</td>\n",
       "      <td>Hoard Playground Park</td>\n",
       "      <td>(773) 256-1903</td>\n",
       "      <td>Black Panther</td>\n",
       "      <td>Y</td>\n",
       "      <td>PG-13</td>\n",
       "      <td>NaN</td>\n",
       "      <td>7201 S. Dobson Ave.</td>\n",
       "      <td>(41.7640317, -87.59928813)</td>\n",
       "    </tr>\n",
       "    <tr>\n",
       "      <th>2</th>\n",
       "      <td>Fri</td>\n",
       "      <td>06/07/2019</td>\n",
       "      <td>Berger Park Cultural Center</td>\n",
       "      <td>(773) 761-0376</td>\n",
       "      <td>Some Like It Hot</td>\n",
       "      <td>Y</td>\n",
       "      <td>NR</td>\n",
       "      <td>NaN</td>\n",
       "      <td>6205 N. Sheridan Rd.</td>\n",
       "      <td>(41.99480562, -87.65538421)</td>\n",
       "    </tr>\n",
       "    <tr>\n",
       "      <th>3</th>\n",
       "      <td>Sat</td>\n",
       "      <td>07/13/2019</td>\n",
       "      <td>Skinner Park</td>\n",
       "      <td>(312) 746-5560</td>\n",
       "      <td>Big Hero 6</td>\n",
       "      <td>Y</td>\n",
       "      <td>PG</td>\n",
       "      <td>The Museum of Science and Industry</td>\n",
       "      <td>1331 W. Monroe St.</td>\n",
       "      <td>(41.88015941, -87.66077867)</td>\n",
       "    </tr>\n",
       "    <tr>\n",
       "      <th>4</th>\n",
       "      <td>Wed</td>\n",
       "      <td>07/24/2019</td>\n",
       "      <td>Kilbourn Park</td>\n",
       "      <td>(773) 685-3351</td>\n",
       "      <td>El Reality</td>\n",
       "      <td>Y</td>\n",
       "      <td>NR</td>\n",
       "      <td>The International Latino Cultural Center</td>\n",
       "      <td>3501 N. Kilbourn Ave.</td>\n",
       "      <td>(41.94450485, -87.73951111)</td>\n",
       "    </tr>\n",
       "  </tbody>\n",
       "</table>\n",
       "</div>"
      ],
      "text/plain": [
       "   Day        Date                         Park      Park Phone  \\\n",
       "0  Mon  08/12/2019                   River Park  (312) 742-7516   \n",
       "1  Thu  07/18/2019        Hoard Playground Park  (773) 256-1903   \n",
       "2  Fri  06/07/2019  Berger Park Cultural Center  (773) 761-0376   \n",
       "3  Sat  07/13/2019                 Skinner Park  (312) 746-5560   \n",
       "4  Wed  07/24/2019                Kilbourn Park  (773) 685-3351   \n",
       "\n",
       "                  Title CC Rating                               Underwriter  \\\n",
       "0  Hotel Transylvania 3  Y     PG                                       NaN   \n",
       "1         Black Panther  Y  PG-13                                       NaN   \n",
       "2      Some Like It Hot  Y     NR                                       NaN   \n",
       "3            Big Hero 6  Y     PG        The Museum of Science and Industry   \n",
       "4            El Reality  Y     NR  The International Latino Cultural Center   \n",
       "\n",
       "             Park Address                     Location  \n",
       "0  5100 N. Francisco Ave.  (41.97406838, -87.70144885)  \n",
       "1     7201 S. Dobson Ave.   (41.7640317, -87.59928813)  \n",
       "2    6205 N. Sheridan Rd.  (41.99480562, -87.65538421)  \n",
       "3      1331 W. Monroe St.  (41.88015941, -87.66077867)  \n",
       "4   3501 N. Kilbourn Ave.  (41.94450485, -87.73951111)  "
      ]
     },
     "execution_count": 12,
     "metadata": {},
     "output_type": "execute_result"
    }
   ],
   "source": [
    "#Your code here\n",
    "df = pd.read_csv('data/Chicago_Park_District__Movies_in_the_Parks_2019.csv')\n",
    "df.head()"
   ]
  },
  {
   "cell_type": "markdown",
   "metadata": {},
   "source": [
    "#### What kind of type is the data in the Date column?  Turn it into a datetime type if it's not already"
   ]
  },
  {
   "cell_type": "code",
   "execution_count": 37,
   "metadata": {},
   "outputs": [
    {
     "data": {
      "text/plain": [
       "0     2019-08-12\n",
       "1     2019-07-18\n",
       "2     2019-06-07\n",
       "3     2019-07-13\n",
       "4     2019-07-24\n",
       "         ...    \n",
       "205   2019-07-15\n",
       "206   2019-07-22\n",
       "207   2019-07-26\n",
       "208   2019-07-12\n",
       "209   2019-07-18\n",
       "Name: Date, Length: 210, dtype: datetime64[ns]"
      ]
     },
     "execution_count": 37,
     "metadata": {},
     "output_type": "execute_result"
    }
   ],
   "source": [
    "df['Date'] = pd.to_datetime(df['Date'])\n",
    "df['Date']"
   ]
  },
  {
   "cell_type": "code",
   "execution_count": 35,
   "metadata": {},
   "outputs": [
    {
     "data": {
      "text/plain": [
       "pandas._libs.tslibs.timestamps.Timestamp"
      ]
     },
     "execution_count": 35,
     "metadata": {},
     "output_type": "execute_result"
    }
   ],
   "source": [
    "type(df['Date'][0])"
   ]
  },
  {
   "cell_type": "markdown",
   "metadata": {},
   "source": [
    "#### Replace the truncated days of the week in the Days column with the full string of the day of the week using the Date column\n",
    "\n",
    "[*Hint*](https://pandas.pydata.org/pandas-docs/version/0.25.0/reference/api/pandas.Series.dt.day_name.html)"
   ]
  },
  {
   "cell_type": "code",
   "execution_count": 36,
   "metadata": {},
   "outputs": [
    {
     "data": {
      "text/plain": [
       "0         Monday\n",
       "1       Thursday\n",
       "2         Friday\n",
       "3       Saturday\n",
       "4      Wednesday\n",
       "         ...    \n",
       "205       Monday\n",
       "206       Monday\n",
       "207       Friday\n",
       "208       Friday\n",
       "209     Thursday\n",
       "Name: Day, Length: 210, dtype: object"
      ]
     },
     "execution_count": 36,
     "metadata": {},
     "output_type": "execute_result"
    }
   ],
   "source": [
    "#Your code here\n",
    "df['Day'] = df['Date'].dt.day_name()\n",
    "df['Day']"
   ]
  },
  {
   "cell_type": "markdown",
   "metadata": {},
   "source": [
    "#### Sort `movies` by the Day column, with 'Monday' first and 'Sunday' last\n",
    "\n",
    "[*Hint*](https://pandas.pydata.org/pandas-docs/version/0.25.0/reference/api/pandas.Categorical.html#pandas.Categorical)"
   ]
  },
  {
   "cell_type": "code",
   "execution_count": 43,
   "metadata": {},
   "outputs": [],
   "source": [
    "movies = df"
   ]
  },
  {
   "cell_type": "code",
   "execution_count": 44,
   "metadata": {},
   "outputs": [
    {
     "data": {
      "text/html": [
       "<div>\n",
       "<style scoped>\n",
       "    .dataframe tbody tr th:only-of-type {\n",
       "        vertical-align: middle;\n",
       "    }\n",
       "\n",
       "    .dataframe tbody tr th {\n",
       "        vertical-align: top;\n",
       "    }\n",
       "\n",
       "    .dataframe thead th {\n",
       "        text-align: right;\n",
       "    }\n",
       "</style>\n",
       "<table border=\"1\" class=\"dataframe\">\n",
       "  <thead>\n",
       "    <tr style=\"text-align: right;\">\n",
       "      <th></th>\n",
       "      <th>Day</th>\n",
       "      <th>Date</th>\n",
       "      <th>Park</th>\n",
       "      <th>Park Phone</th>\n",
       "      <th>Title</th>\n",
       "      <th>CC</th>\n",
       "      <th>Rating</th>\n",
       "      <th>Underwriter</th>\n",
       "      <th>Park Address</th>\n",
       "      <th>Location</th>\n",
       "    </tr>\n",
       "  </thead>\n",
       "  <tbody>\n",
       "    <tr>\n",
       "      <th>0</th>\n",
       "      <td>Monday</td>\n",
       "      <td>2019-08-12</td>\n",
       "      <td>River Park</td>\n",
       "      <td>(312) 742-7516</td>\n",
       "      <td>Hotel Transylvania 3</td>\n",
       "      <td>Y</td>\n",
       "      <td>PG</td>\n",
       "      <td>NaN</td>\n",
       "      <td>5100 N. Francisco Ave.</td>\n",
       "      <td>(41.97406838, -87.70144885)</td>\n",
       "    </tr>\n",
       "    <tr>\n",
       "      <th>1</th>\n",
       "      <td>Thursday</td>\n",
       "      <td>2019-07-18</td>\n",
       "      <td>Hoard Playground Park</td>\n",
       "      <td>(773) 256-1903</td>\n",
       "      <td>Black Panther</td>\n",
       "      <td>Y</td>\n",
       "      <td>PG-13</td>\n",
       "      <td>NaN</td>\n",
       "      <td>7201 S. Dobson Ave.</td>\n",
       "      <td>(41.7640317, -87.59928813)</td>\n",
       "    </tr>\n",
       "    <tr>\n",
       "      <th>2</th>\n",
       "      <td>Friday</td>\n",
       "      <td>2019-06-07</td>\n",
       "      <td>Berger Park Cultural Center</td>\n",
       "      <td>(773) 761-0376</td>\n",
       "      <td>Some Like It Hot</td>\n",
       "      <td>Y</td>\n",
       "      <td>NR</td>\n",
       "      <td>NaN</td>\n",
       "      <td>6205 N. Sheridan Rd.</td>\n",
       "      <td>(41.99480562, -87.65538421)</td>\n",
       "    </tr>\n",
       "    <tr>\n",
       "      <th>3</th>\n",
       "      <td>Saturday</td>\n",
       "      <td>2019-07-13</td>\n",
       "      <td>Skinner Park</td>\n",
       "      <td>(312) 746-5560</td>\n",
       "      <td>Big Hero 6</td>\n",
       "      <td>Y</td>\n",
       "      <td>PG</td>\n",
       "      <td>The Museum of Science and Industry</td>\n",
       "      <td>1331 W. Monroe St.</td>\n",
       "      <td>(41.88015941, -87.66077867)</td>\n",
       "    </tr>\n",
       "    <tr>\n",
       "      <th>4</th>\n",
       "      <td>Wednesday</td>\n",
       "      <td>2019-07-24</td>\n",
       "      <td>Kilbourn Park</td>\n",
       "      <td>(773) 685-3351</td>\n",
       "      <td>El Reality</td>\n",
       "      <td>Y</td>\n",
       "      <td>NR</td>\n",
       "      <td>The International Latino Cultural Center</td>\n",
       "      <td>3501 N. Kilbourn Ave.</td>\n",
       "      <td>(41.94450485, -87.73951111)</td>\n",
       "    </tr>\n",
       "  </tbody>\n",
       "</table>\n",
       "</div>"
      ],
      "text/plain": [
       "         Day       Date                         Park      Park Phone  \\\n",
       "0     Monday 2019-08-12                   River Park  (312) 742-7516   \n",
       "1   Thursday 2019-07-18        Hoard Playground Park  (773) 256-1903   \n",
       "2     Friday 2019-06-07  Berger Park Cultural Center  (773) 761-0376   \n",
       "3   Saturday 2019-07-13                 Skinner Park  (312) 746-5560   \n",
       "4  Wednesday 2019-07-24                Kilbourn Park  (773) 685-3351   \n",
       "\n",
       "                  Title CC Rating                               Underwriter  \\\n",
       "0  Hotel Transylvania 3  Y     PG                                       NaN   \n",
       "1         Black Panther  Y  PG-13                                       NaN   \n",
       "2      Some Like It Hot  Y     NR                                       NaN   \n",
       "3            Big Hero 6  Y     PG        The Museum of Science and Industry   \n",
       "4            El Reality  Y     NR  The International Latino Cultural Center   \n",
       "\n",
       "             Park Address                     Location  \n",
       "0  5100 N. Francisco Ave.  (41.97406838, -87.70144885)  \n",
       "1     7201 S. Dobson Ave.   (41.7640317, -87.59928813)  \n",
       "2    6205 N. Sheridan Rd.  (41.99480562, -87.65538421)  \n",
       "3      1331 W. Monroe St.  (41.88015941, -87.66077867)  \n",
       "4   3501 N. Kilbourn Ave.  (41.94450485, -87.73951111)  "
      ]
     },
     "execution_count": 44,
     "metadata": {},
     "output_type": "execute_result"
    }
   ],
   "source": [
    "movies.head()"
   ]
  },
  {
   "cell_type": "code",
   "execution_count": 50,
   "metadata": {},
   "outputs": [
    {
     "data": {
      "text/html": [
       "<div>\n",
       "<style scoped>\n",
       "    .dataframe tbody tr th:only-of-type {\n",
       "        vertical-align: middle;\n",
       "    }\n",
       "\n",
       "    .dataframe tbody tr th {\n",
       "        vertical-align: top;\n",
       "    }\n",
       "\n",
       "    .dataframe thead th {\n",
       "        text-align: right;\n",
       "    }\n",
       "</style>\n",
       "<table border=\"1\" class=\"dataframe\">\n",
       "  <thead>\n",
       "    <tr style=\"text-align: right;\">\n",
       "      <th></th>\n",
       "      <th>Day</th>\n",
       "      <th>Date</th>\n",
       "      <th>Park</th>\n",
       "      <th>Park Phone</th>\n",
       "      <th>Title</th>\n",
       "      <th>CC</th>\n",
       "      <th>Rating</th>\n",
       "      <th>Underwriter</th>\n",
       "      <th>Park Address</th>\n",
       "      <th>Location</th>\n",
       "    </tr>\n",
       "  </thead>\n",
       "  <tbody>\n",
       "    <tr>\n",
       "      <th>181</th>\n",
       "      <td>Friday</td>\n",
       "      <td>2019-07-12</td>\n",
       "      <td>Gill Park</td>\n",
       "      <td>(312) 742-7802</td>\n",
       "      <td>The Sandlot</td>\n",
       "      <td>Y</td>\n",
       "      <td>PG</td>\n",
       "      <td>NaN</td>\n",
       "      <td>825 W. Sheridan Rd.</td>\n",
       "      <td>(41.9526213, -87.65067083)</td>\n",
       "    </tr>\n",
       "    <tr>\n",
       "      <th>114</th>\n",
       "      <td>Friday</td>\n",
       "      <td>2019-08-16</td>\n",
       "      <td>Hermosa Park</td>\n",
       "      <td>(312) 742-7540</td>\n",
       "      <td>Aquaman</td>\n",
       "      <td>Y</td>\n",
       "      <td>PG-13</td>\n",
       "      <td>NaN</td>\n",
       "      <td>2240 N. Kilbourn Ave.</td>\n",
       "      <td>(41.92192999, -87.73907239)</td>\n",
       "    </tr>\n",
       "    <tr>\n",
       "      <th>113</th>\n",
       "      <td>Friday</td>\n",
       "      <td>2019-06-28</td>\n",
       "      <td>Carver Park</td>\n",
       "      <td>(312) 747-6047</td>\n",
       "      <td>Spider-Man: Into the Spider-Verse</td>\n",
       "      <td>Y</td>\n",
       "      <td>PG</td>\n",
       "      <td>The Forest Preserve District of Cook County</td>\n",
       "      <td>939 E. 132nd St.</td>\n",
       "      <td>(41.65592462, -87.59906439)</td>\n",
       "    </tr>\n",
       "    <tr>\n",
       "      <th>166</th>\n",
       "      <td>Friday</td>\n",
       "      <td>2019-07-19</td>\n",
       "      <td>Paschen Park</td>\n",
       "      <td>(773) 262-5871</td>\n",
       "      <td>Ant-Man and the Wasp</td>\n",
       "      <td>Y</td>\n",
       "      <td>PG-13</td>\n",
       "      <td>NaN</td>\n",
       "      <td>1932 W. Lunt Ave.</td>\n",
       "      <td>(42.00900097, -87.67923602)</td>\n",
       "    </tr>\n",
       "    <tr>\n",
       "      <th>188</th>\n",
       "      <td>Friday</td>\n",
       "      <td>2019-08-16</td>\n",
       "      <td>Portage Park</td>\n",
       "      <td>(773) 685-7235</td>\n",
       "      <td>A Dog's Way Home</td>\n",
       "      <td>Y</td>\n",
       "      <td>PG</td>\n",
       "      <td>NaN</td>\n",
       "      <td>4100 N. Long Ave.</td>\n",
       "      <td>(41.95510787, -87.76228458)</td>\n",
       "    </tr>\n",
       "    <tr>\n",
       "      <th>...</th>\n",
       "      <td>...</td>\n",
       "      <td>...</td>\n",
       "      <td>...</td>\n",
       "      <td>...</td>\n",
       "      <td>...</td>\n",
       "      <td>...</td>\n",
       "      <td>...</td>\n",
       "      <td>...</td>\n",
       "      <td>...</td>\n",
       "      <td>...</td>\n",
       "    </tr>\n",
       "    <tr>\n",
       "      <th>52</th>\n",
       "      <td>Wednesday</td>\n",
       "      <td>2019-07-24</td>\n",
       "      <td>White (Willye B.) Park</td>\n",
       "      <td>(773) 262-5051</td>\n",
       "      <td>Aquaman</td>\n",
       "      <td>Y</td>\n",
       "      <td>PG-13</td>\n",
       "      <td>The Forest Preserve District of Cook County</td>\n",
       "      <td>7631 N. Ashland Ave.</td>\n",
       "      <td>(42.02087112, -87.67057561)</td>\n",
       "    </tr>\n",
       "    <tr>\n",
       "      <th>177</th>\n",
       "      <td>Wednesday</td>\n",
       "      <td>2019-07-10</td>\n",
       "      <td>Kelvyn Park</td>\n",
       "      <td>(312) 742-7547</td>\n",
       "      <td>Bumble Bee</td>\n",
       "      <td>Y</td>\n",
       "      <td>PG-13</td>\n",
       "      <td>NaN</td>\n",
       "      <td>4438 W. Wrightwood Ave.</td>\n",
       "      <td>(41.92875053, -87.73827846)</td>\n",
       "    </tr>\n",
       "    <tr>\n",
       "      <th>46</th>\n",
       "      <td>Wednesday</td>\n",
       "      <td>2019-07-24</td>\n",
       "      <td>La Villita Park</td>\n",
       "      <td>(312) 747-6608</td>\n",
       "      <td>Smallfoot</td>\n",
       "      <td>Y</td>\n",
       "      <td>PG</td>\n",
       "      <td>NaN</td>\n",
       "      <td>2800 S. Sacramento Blvd.</td>\n",
       "      <td>(41.8408764, -87.70018045)</td>\n",
       "    </tr>\n",
       "    <tr>\n",
       "      <th>29</th>\n",
       "      <td>Wednesday</td>\n",
       "      <td>2019-06-19</td>\n",
       "      <td>Green Briar Park</td>\n",
       "      <td>(773) 761-0582</td>\n",
       "      <td>Alice in Wonderland</td>\n",
       "      <td>Y</td>\n",
       "      <td>G</td>\n",
       "      <td>NaN</td>\n",
       "      <td>2650 W. Peterson Ave.</td>\n",
       "      <td>(41.99056874, -87.69659414)</td>\n",
       "    </tr>\n",
       "    <tr>\n",
       "      <th>104</th>\n",
       "      <td>Wednesday</td>\n",
       "      <td>2019-06-26</td>\n",
       "      <td>Lincoln Park Cultural Center</td>\n",
       "      <td>(312) 742-7726</td>\n",
       "      <td>Galaxy Quest</td>\n",
       "      <td>Y</td>\n",
       "      <td>PG</td>\n",
       "      <td>NaN</td>\n",
       "      <td>2045 N. Lincoln Park West</td>\n",
       "      <td>(41.91983669, -87.63624578)</td>\n",
       "    </tr>\n",
       "  </tbody>\n",
       "</table>\n",
       "<p>210 rows × 10 columns</p>\n",
       "</div>"
      ],
      "text/plain": [
       "           Day       Date                          Park      Park Phone  \\\n",
       "181     Friday 2019-07-12                     Gill Park  (312) 742-7802   \n",
       "114     Friday 2019-08-16                  Hermosa Park  (312) 742-7540   \n",
       "113     Friday 2019-06-28                   Carver Park  (312) 747-6047   \n",
       "166     Friday 2019-07-19                  Paschen Park  (773) 262-5871   \n",
       "188     Friday 2019-08-16                  Portage Park  (773) 685-7235   \n",
       "..         ...        ...                           ...             ...   \n",
       "52   Wednesday 2019-07-24        White (Willye B.) Park  (773) 262-5051   \n",
       "177  Wednesday 2019-07-10                   Kelvyn Park  (312) 742-7547   \n",
       "46   Wednesday 2019-07-24               La Villita Park  (312) 747-6608   \n",
       "29   Wednesday 2019-06-19              Green Briar Park  (773) 761-0582   \n",
       "104  Wednesday 2019-06-26  Lincoln Park Cultural Center  (312) 742-7726   \n",
       "\n",
       "                                 Title CC Rating  \\\n",
       "181                        The Sandlot  Y     PG   \n",
       "114                            Aquaman  Y  PG-13   \n",
       "113  Spider-Man: Into the Spider-Verse  Y     PG   \n",
       "166               Ant-Man and the Wasp  Y  PG-13   \n",
       "188                   A Dog's Way Home  Y     PG   \n",
       "..                                 ... ..    ...   \n",
       "52                             Aquaman  Y  PG-13   \n",
       "177                         Bumble Bee  Y  PG-13   \n",
       "46                           Smallfoot  Y     PG   \n",
       "29                 Alice in Wonderland  Y      G   \n",
       "104                       Galaxy Quest  Y     PG   \n",
       "\n",
       "                                     Underwriter               Park Address  \\\n",
       "181                                          NaN        825 W. Sheridan Rd.   \n",
       "114                                          NaN      2240 N. Kilbourn Ave.   \n",
       "113  The Forest Preserve District of Cook County           939 E. 132nd St.   \n",
       "166                                          NaN          1932 W. Lunt Ave.   \n",
       "188                                          NaN          4100 N. Long Ave.   \n",
       "..                                           ...                        ...   \n",
       "52   The Forest Preserve District of Cook County       7631 N. Ashland Ave.   \n",
       "177                                          NaN    4438 W. Wrightwood Ave.   \n",
       "46                                           NaN   2800 S. Sacramento Blvd.   \n",
       "29                                           NaN      2650 W. Peterson Ave.   \n",
       "104                                          NaN  2045 N. Lincoln Park West   \n",
       "\n",
       "                        Location  \n",
       "181   (41.9526213, -87.65067083)  \n",
       "114  (41.92192999, -87.73907239)  \n",
       "113  (41.65592462, -87.59906439)  \n",
       "166  (42.00900097, -87.67923602)  \n",
       "188  (41.95510787, -87.76228458)  \n",
       "..                           ...  \n",
       "52   (42.02087112, -87.67057561)  \n",
       "177  (41.92875053, -87.73827846)  \n",
       "46    (41.8408764, -87.70018045)  \n",
       "29   (41.99056874, -87.69659414)  \n",
       "104  (41.91983669, -87.63624578)  \n",
       "\n",
       "[210 rows x 10 columns]"
      ]
     },
     "execution_count": 50,
     "metadata": {},
     "output_type": "execute_result"
    }
   ],
   "source": [
    "movies.sort_values('Day')"
   ]
  },
  {
   "cell_type": "code",
   "execution_count": 57,
   "metadata": {},
   "outputs": [],
   "source": [
    "movies['Day'] = pd.Categorical(movies['Day'], categories=['Monday', 'Tuesday', 'Wednesday', 'Thursday', 'Friday', 'Saturday', 'Sunday'], ordered=True)"
   ]
  },
  {
   "cell_type": "code",
   "execution_count": 227,
   "metadata": {},
   "outputs": [],
   "source": [
    "movies = movies.sort_values('Day')"
   ]
  },
  {
   "cell_type": "code",
   "execution_count": 228,
   "metadata": {},
   "outputs": [
    {
     "data": {
      "text/html": [
       "<div>\n",
       "<style scoped>\n",
       "    .dataframe tbody tr th:only-of-type {\n",
       "        vertical-align: middle;\n",
       "    }\n",
       "\n",
       "    .dataframe tbody tr th {\n",
       "        vertical-align: top;\n",
       "    }\n",
       "\n",
       "    .dataframe thead th {\n",
       "        text-align: right;\n",
       "    }\n",
       "</style>\n",
       "<table border=\"1\" class=\"dataframe\">\n",
       "  <thead>\n",
       "    <tr style=\"text-align: right;\">\n",
       "      <th></th>\n",
       "      <th>Day</th>\n",
       "      <th>Date</th>\n",
       "      <th>Park</th>\n",
       "      <th>Park Phone</th>\n",
       "      <th>Title</th>\n",
       "      <th>CC</th>\n",
       "      <th>Rating</th>\n",
       "      <th>Underwriter</th>\n",
       "      <th>Park Address</th>\n",
       "      <th>Location</th>\n",
       "    </tr>\n",
       "  </thead>\n",
       "  <tbody>\n",
       "    <tr>\n",
       "      <th>0</th>\n",
       "      <td>Monday</td>\n",
       "      <td>2019-08-12</td>\n",
       "      <td>River Park</td>\n",
       "      <td>(312) 742-7516</td>\n",
       "      <td>Hotel Transylvania 3</td>\n",
       "      <td>Y</td>\n",
       "      <td>PG</td>\n",
       "      <td>NaN</td>\n",
       "      <td>5100 N. Francisco Ave.</td>\n",
       "      <td>(41.97406838, -87.70144885)</td>\n",
       "    </tr>\n",
       "    <tr>\n",
       "      <th>154</th>\n",
       "      <td>Monday</td>\n",
       "      <td>2019-06-17</td>\n",
       "      <td>Grant Park: Logan Monument</td>\n",
       "      <td>(312) 742-1134</td>\n",
       "      <td>Chicago</td>\n",
       "      <td>Y</td>\n",
       "      <td>PG-13</td>\n",
       "      <td>NaN</td>\n",
       "      <td>900 S. Michigan Ave.</td>\n",
       "      <td>(41.87055847, -87.62428661)</td>\n",
       "    </tr>\n",
       "    <tr>\n",
       "      <th>28</th>\n",
       "      <td>Monday</td>\n",
       "      <td>2019-08-19</td>\n",
       "      <td>Grant Park: Logan Monument</td>\n",
       "      <td>(312) 742-1134</td>\n",
       "      <td>Grease</td>\n",
       "      <td>Y</td>\n",
       "      <td>PG</td>\n",
       "      <td>The Greater South Loop Association</td>\n",
       "      <td>900 S. Michigan Ave.</td>\n",
       "      <td>(41.87055847, -87.62428661)</td>\n",
       "    </tr>\n",
       "    <tr>\n",
       "      <th>140</th>\n",
       "      <td>Monday</td>\n",
       "      <td>2019-09-09</td>\n",
       "      <td>South Shore Cultural Center</td>\n",
       "      <td>(773) 256-0149</td>\n",
       "      <td>Robin Hood</td>\n",
       "      <td>Y</td>\n",
       "      <td>PG-13</td>\n",
       "      <td>South Shore Cultural Center</td>\n",
       "      <td>7059 S. South Shore Drive</td>\n",
       "      <td>(41.76660302, -87.56632372)</td>\n",
       "    </tr>\n",
       "    <tr>\n",
       "      <th>128</th>\n",
       "      <td>Monday</td>\n",
       "      <td>2019-07-15</td>\n",
       "      <td>Harold Washington Playlot Park</td>\n",
       "      <td>(312) 747-6620</td>\n",
       "      <td>Isle of Dogs</td>\n",
       "      <td>Y</td>\n",
       "      <td>PG-13</td>\n",
       "      <td>NaN</td>\n",
       "      <td>5200 S. Hyde Park Blvd.</td>\n",
       "      <td>(41.80047033, -87.58450476)</td>\n",
       "    </tr>\n",
       "  </tbody>\n",
       "</table>\n",
       "</div>"
      ],
      "text/plain": [
       "        Day       Date                            Park      Park Phone  \\\n",
       "0    Monday 2019-08-12                      River Park  (312) 742-7516   \n",
       "154  Monday 2019-06-17      Grant Park: Logan Monument  (312) 742-1134   \n",
       "28   Monday 2019-08-19      Grant Park: Logan Monument  (312) 742-1134   \n",
       "140  Monday 2019-09-09     South Shore Cultural Center  (773) 256-0149   \n",
       "128  Monday 2019-07-15  Harold Washington Playlot Park  (312) 747-6620   \n",
       "\n",
       "                    Title CC Rating                         Underwriter  \\\n",
       "0    Hotel Transylvania 3  Y     PG                                 NaN   \n",
       "154               Chicago  Y  PG-13                                 NaN   \n",
       "28                 Grease  Y     PG  The Greater South Loop Association   \n",
       "140            Robin Hood  Y  PG-13         South Shore Cultural Center   \n",
       "128          Isle of Dogs  Y  PG-13                                 NaN   \n",
       "\n",
       "                  Park Address                     Location  \n",
       "0       5100 N. Francisco Ave.  (41.97406838, -87.70144885)  \n",
       "154       900 S. Michigan Ave.  (41.87055847, -87.62428661)  \n",
       "28        900 S. Michigan Ave.  (41.87055847, -87.62428661)  \n",
       "140  7059 S. South Shore Drive  (41.76660302, -87.56632372)  \n",
       "128    5200 S. Hyde Park Blvd.  (41.80047033, -87.58450476)  "
      ]
     },
     "execution_count": 228,
     "metadata": {},
     "output_type": "execute_result"
    }
   ],
   "source": [
    "movies.head()"
   ]
  },
  {
   "cell_type": "markdown",
   "metadata": {},
   "source": [
    "## Data Exploration"
   ]
  },
  {
   "cell_type": "markdown",
   "metadata": {},
   "source": [
    "#### What is the most frequent place to show a movie?  (Remember that there might be a tie!)\n",
    "\n",
    "#### Assign your answer to the variable `venue_max` as a list of one or more strings"
   ]
  },
  {
   "cell_type": "code",
   "execution_count": 229,
   "metadata": {},
   "outputs": [
    {
     "data": {
      "text/plain": [
       "['Ward (A. Montgomery) Park']"
      ]
     },
     "execution_count": 229,
     "metadata": {},
     "output_type": "execute_result"
    }
   ],
   "source": [
    "#Your code here\n",
    "venue_max = [movies['Park'].value_counts().index[0]]\n",
    "venue_max"
   ]
  },
  {
   "cell_type": "code",
   "execution_count": 230,
   "metadata": {},
   "outputs": [
    {
     "data": {
      "text/plain": [
       "'Hey, you did it.  Good job.'"
      ]
     },
     "execution_count": 230,
     "metadata": {},
     "output_type": "execute_result"
    }
   ],
   "source": [
    "#test your answer here\n",
    "\n",
    "run_test(venue_max, 'venue_max')"
   ]
  },
  {
   "cell_type": "markdown",
   "metadata": {},
   "source": [
    "#### What's the area code in which movies are shown most frequently?\n",
    "\n",
    "#### Assign your answer to the variable `area_code` as an integer"
   ]
  },
  {
   "cell_type": "code",
   "execution_count": 231,
   "metadata": {},
   "outputs": [
    {
     "data": {
      "text/plain": [
       "'312'"
      ]
     },
     "execution_count": 231,
     "metadata": {},
     "output_type": "execute_result"
    }
   ],
   "source": [
    "#Your code here\n",
    "area_code = movies['Park Phone'].apply((lambda x: x[1:4])).value_counts().index[0]\n",
    "area_code"
   ]
  },
  {
   "cell_type": "code",
   "execution_count": 232,
   "metadata": {},
   "outputs": [
    {
     "data": {
      "text/plain": [
       "'Try again'"
      ]
     },
     "execution_count": 232,
     "metadata": {},
     "output_type": "execute_result"
    }
   ],
   "source": [
    "#run this cell to test your answer\n",
    "\n",
    "run_test(area_code, 'area_code')"
   ]
  },
  {
   "cell_type": "markdown",
   "metadata": {},
   "source": [
    "## Data Manipulation\n",
    "\n",
    "#### Group the data by what day of the week the movies are shown using `.groupby()`\n",
    "\n",
    "#### Assign to the variable `movies_grp_day` \n",
    "(concept check: what type of object is this?)\n",
    "\n",
    "#### Using `movies_grp_day`, assign to `movies_per_day` a series where the index is the day of the week and the values are total counts of movies per day \n",
    "\n",
    "#### Again using `movies_grp_day`, assign to `unique_movies_per_day` a series where the index is the day of the week and the values are unique counts of movies per day of the week.\n",
    "\n",
    "#### Use `movies_per_day` and `unique_movies_per_day` to calculate a series of how many movie showings per day of the week are of movies that are shown more than once.  Assign this series to `repeats`\n",
    "\n",
    "#### Sort `repeats` so Monday is the first entry and Sunday is the last"
   ]
  },
  {
   "cell_type": "code",
   "execution_count": 233,
   "metadata": {},
   "outputs": [
    {
     "data": {
      "text/plain": [
       "Day\n",
       "Monday       26\n",
       "Tuesday      30\n",
       "Wednesday    30\n",
       "Thursday     33\n",
       "Friday       45\n",
       "Saturday     37\n",
       "Sunday        9\n",
       "Name: Date, dtype: int64"
      ]
     },
     "execution_count": 233,
     "metadata": {},
     "output_type": "execute_result"
    }
   ],
   "source": [
    "movies_grp_day.count()['Date']"
   ]
  },
  {
   "cell_type": "code",
   "execution_count": 234,
   "metadata": {},
   "outputs": [],
   "source": [
    "movies_grp_day = movies.groupby('Day')\n",
    "movies_per_day = movies_grp_day.count()['Date']\n",
    "unique_movies_per_day = movies_grp_day.nunique()['Title']"
   ]
  },
  {
   "cell_type": "code",
   "execution_count": 235,
   "metadata": {},
   "outputs": [
    {
     "data": {
      "text/plain": [
       "Day\n",
       "Monday        3\n",
       "Tuesday       9\n",
       "Wednesday     6\n",
       "Thursday     10\n",
       "Friday       18\n",
       "Saturday      9\n",
       "Sunday        1\n",
       "dtype: int64"
      ]
     },
     "execution_count": 235,
     "metadata": {},
     "output_type": "execute_result"
    }
   ],
   "source": [
    "repeats = movies_per_day - unique_movies_per_day\n",
    "repeats"
   ]
  },
  {
   "cell_type": "code",
   "execution_count": 315,
   "metadata": {},
   "outputs": [
    {
     "data": {
      "text/plain": [
       "'Try again'"
      ]
     },
     "execution_count": 315,
     "metadata": {},
     "output_type": "execute_result"
    }
   ],
   "source": [
    "#test your answer here\n",
    "\n",
    "run_test(repeats, 'repeats')"
   ]
  },
  {
   "cell_type": "markdown",
   "metadata": {},
   "source": [
    "#### Which day of the week has the fewest underwriters?  Run a calculation that results in a string (ie, don't run a calculation which displays the answer somewhere and then create a new string with the answer)\n",
    "\n",
    "#### Assign that string to `day_underwriter_min`"
   ]
  },
  {
   "cell_type": "code",
   "execution_count": 237,
   "metadata": {},
   "outputs": [
    {
     "data": {
      "text/html": [
       "<div>\n",
       "<style scoped>\n",
       "    .dataframe tbody tr th:only-of-type {\n",
       "        vertical-align: middle;\n",
       "    }\n",
       "\n",
       "    .dataframe tbody tr th {\n",
       "        vertical-align: top;\n",
       "    }\n",
       "\n",
       "    .dataframe thead th {\n",
       "        text-align: right;\n",
       "    }\n",
       "</style>\n",
       "<table border=\"1\" class=\"dataframe\">\n",
       "  <thead>\n",
       "    <tr style=\"text-align: right;\">\n",
       "      <th></th>\n",
       "      <th>Day</th>\n",
       "      <th>Date</th>\n",
       "      <th>Park</th>\n",
       "      <th>Park Phone</th>\n",
       "      <th>Title</th>\n",
       "      <th>CC</th>\n",
       "      <th>Rating</th>\n",
       "      <th>Underwriter</th>\n",
       "      <th>Park Address</th>\n",
       "      <th>Location</th>\n",
       "    </tr>\n",
       "  </thead>\n",
       "  <tbody>\n",
       "    <tr>\n",
       "      <th>0</th>\n",
       "      <td>Monday</td>\n",
       "      <td>2019-08-12</td>\n",
       "      <td>River Park</td>\n",
       "      <td>(312) 742-7516</td>\n",
       "      <td>Hotel Transylvania 3</td>\n",
       "      <td>Y</td>\n",
       "      <td>PG</td>\n",
       "      <td>NaN</td>\n",
       "      <td>5100 N. Francisco Ave.</td>\n",
       "      <td>(41.97406838, -87.70144885)</td>\n",
       "    </tr>\n",
       "    <tr>\n",
       "      <th>154</th>\n",
       "      <td>Monday</td>\n",
       "      <td>2019-06-17</td>\n",
       "      <td>Grant Park: Logan Monument</td>\n",
       "      <td>(312) 742-1134</td>\n",
       "      <td>Chicago</td>\n",
       "      <td>Y</td>\n",
       "      <td>PG-13</td>\n",
       "      <td>NaN</td>\n",
       "      <td>900 S. Michigan Ave.</td>\n",
       "      <td>(41.87055847, -87.62428661)</td>\n",
       "    </tr>\n",
       "    <tr>\n",
       "      <th>28</th>\n",
       "      <td>Monday</td>\n",
       "      <td>2019-08-19</td>\n",
       "      <td>Grant Park: Logan Monument</td>\n",
       "      <td>(312) 742-1134</td>\n",
       "      <td>Grease</td>\n",
       "      <td>Y</td>\n",
       "      <td>PG</td>\n",
       "      <td>The Greater South Loop Association</td>\n",
       "      <td>900 S. Michigan Ave.</td>\n",
       "      <td>(41.87055847, -87.62428661)</td>\n",
       "    </tr>\n",
       "    <tr>\n",
       "      <th>140</th>\n",
       "      <td>Monday</td>\n",
       "      <td>2019-09-09</td>\n",
       "      <td>South Shore Cultural Center</td>\n",
       "      <td>(773) 256-0149</td>\n",
       "      <td>Robin Hood</td>\n",
       "      <td>Y</td>\n",
       "      <td>PG-13</td>\n",
       "      <td>South Shore Cultural Center</td>\n",
       "      <td>7059 S. South Shore Drive</td>\n",
       "      <td>(41.76660302, -87.56632372)</td>\n",
       "    </tr>\n",
       "    <tr>\n",
       "      <th>128</th>\n",
       "      <td>Monday</td>\n",
       "      <td>2019-07-15</td>\n",
       "      <td>Harold Washington Playlot Park</td>\n",
       "      <td>(312) 747-6620</td>\n",
       "      <td>Isle of Dogs</td>\n",
       "      <td>Y</td>\n",
       "      <td>PG-13</td>\n",
       "      <td>NaN</td>\n",
       "      <td>5200 S. Hyde Park Blvd.</td>\n",
       "      <td>(41.80047033, -87.58450476)</td>\n",
       "    </tr>\n",
       "  </tbody>\n",
       "</table>\n",
       "</div>"
      ],
      "text/plain": [
       "        Day       Date                            Park      Park Phone  \\\n",
       "0    Monday 2019-08-12                      River Park  (312) 742-7516   \n",
       "154  Monday 2019-06-17      Grant Park: Logan Monument  (312) 742-1134   \n",
       "28   Monday 2019-08-19      Grant Park: Logan Monument  (312) 742-1134   \n",
       "140  Monday 2019-09-09     South Shore Cultural Center  (773) 256-0149   \n",
       "128  Monday 2019-07-15  Harold Washington Playlot Park  (312) 747-6620   \n",
       "\n",
       "                    Title CC Rating                         Underwriter  \\\n",
       "0    Hotel Transylvania 3  Y     PG                                 NaN   \n",
       "154               Chicago  Y  PG-13                                 NaN   \n",
       "28                 Grease  Y     PG  The Greater South Loop Association   \n",
       "140            Robin Hood  Y  PG-13         South Shore Cultural Center   \n",
       "128          Isle of Dogs  Y  PG-13                                 NaN   \n",
       "\n",
       "                  Park Address                     Location  \n",
       "0       5100 N. Francisco Ave.  (41.97406838, -87.70144885)  \n",
       "154       900 S. Michigan Ave.  (41.87055847, -87.62428661)  \n",
       "28        900 S. Michigan Ave.  (41.87055847, -87.62428661)  \n",
       "140  7059 S. South Shore Drive  (41.76660302, -87.56632372)  \n",
       "128    5200 S. Hyde Park Blvd.  (41.80047033, -87.58450476)  "
      ]
     },
     "execution_count": 237,
     "metadata": {},
     "output_type": "execute_result"
    }
   ],
   "source": [
    "movies.head()"
   ]
  },
  {
   "cell_type": "code",
   "execution_count": 238,
   "metadata": {},
   "outputs": [
    {
     "data": {
      "text/plain": [
       "'Friday'"
      ]
     },
     "execution_count": 238,
     "metadata": {},
     "output_type": "execute_result"
    }
   ],
   "source": [
    "day_underwriter_min = (movies_grp_day.count()['Underwriter'].index[4])\n",
    "day_underwriter_min"
   ]
  },
  {
   "cell_type": "code",
   "execution_count": 239,
   "metadata": {},
   "outputs": [
    {
     "data": {
      "text/plain": [
       "list"
      ]
     },
     "execution_count": 239,
     "metadata": {},
     "output_type": "execute_result"
    }
   ],
   "source": [
    "day_underwriter = movies.groupby('Day')\n",
    "min_underwriter = day_underwriter.count()['Underwriter']\n",
    "min_day_underwriter = [min(min_underwriter.index)]\n",
    "type(min_day_underwriter)\n"
   ]
  },
  {
   "cell_type": "code",
   "execution_count": 240,
   "metadata": {},
   "outputs": [
    {
     "data": {
      "text/plain": [
       "'Hey, you did it.  Good job.'"
      ]
     },
     "execution_count": 240,
     "metadata": {},
     "output_type": "execute_result"
    }
   ],
   "source": [
    "#test your answer here\n",
    "\n",
    "run_test(day_underwriter_min, 'day_underwriter_min')"
   ]
  },
  {
   "cell_type": "markdown",
   "metadata": {},
   "source": [
    "#### Using `movies_grp_day`, assign the variable `model_ratings_day` to a series where the index is the days of the week and the values are the modal rating for movies shown that day\n",
    "\n",
    "#### Sort so that the first index is Monday and the last is Sunday\n",
    "\n",
    "\n",
    "*Hint: look at [the groupby documentation](https://pandas.pydata.org/pandas-docs/version/0.23.4/generated/pandas.core.groupby.DataFrameGroupBy.agg.html) and write a function*"
   ]
  },
  {
   "cell_type": "code",
   "execution_count": 241,
   "metadata": {},
   "outputs": [
    {
     "data": {
      "text/plain": [
       "Day\n",
       "Monday          PG\n",
       "Tuesday         PG\n",
       "Wednesday       PG\n",
       "Thursday     PG-13\n",
       "Friday          PG\n",
       "Saturday        PG\n",
       "Sunday          PG\n",
       "Name: Rating, dtype: object"
      ]
     },
     "execution_count": 241,
     "metadata": {},
     "output_type": "execute_result"
    }
   ],
   "source": [
    "#Your code here\n",
    "modal_ratings_day = movies_grp_day['Rating'].agg(pd.Series.mode)\n",
    "modal_ratings_day"
   ]
  },
  {
   "cell_type": "code",
   "execution_count": 242,
   "metadata": {},
   "outputs": [
    {
     "data": {
      "text/plain": [
       "'Hey, you did it.  Good job.'"
      ]
     },
     "execution_count": 242,
     "metadata": {},
     "output_type": "execute_result"
    }
   ],
   "source": [
    "#test your answer here\n",
    "run_test(modal_ratings_day, 'modal_ratings_day')"
   ]
  },
  {
   "cell_type": "code",
   "execution_count": null,
   "metadata": {},
   "outputs": [],
   "source": []
  },
  {
   "cell_type": "markdown",
   "metadata": {},
   "source": [
    "## Strrretch Goal\n",
    "\n",
    "#### Make a stacked bar chart showing the ratings of movies across days of the week using fig and ax objects\n",
    "\n",
    "#### Title the x-axis \"Day\"\n",
    "\n",
    "#### Title the y-axis \"Count of Movies Shown\"\n",
    "\n",
    "#### Title the chart as a whole \"Chicago Movies in the Park by Day and Rating\"\n",
    "\n",
    "[*Hint*](https://matplotlib.org/3.1.1/gallery/lines_bars_and_markers/bar_stacked.html)"
   ]
  },
  {
   "cell_type": "markdown",
   "metadata": {},
   "source": [
    "When you're done it should look like this (w/ figsize 8,5):\n",
    "\n",
    "![](viz/final_chart.png)"
   ]
  },
  {
   "cell_type": "code",
   "execution_count": 314,
   "metadata": {
    "scrolled": true
   },
   "outputs": [
    {
     "ename": "AttributeError",
     "evalue": "'SeriesGroupBy' object has no attribute 'values'",
     "output_type": "error",
     "traceback": [
      "\u001b[1;31m---------------------------------------------------------------------------\u001b[0m",
      "\u001b[1;31mAttributeError\u001b[0m                            Traceback (most recent call last)",
      "\u001b[1;32m<ipython-input-314-40c5bb203dad>\u001b[0m in \u001b[0;36m<module>\u001b[1;34m\u001b[0m\n\u001b[1;32m----> 1\u001b[1;33m \u001b[0mmonday_ratings\u001b[0m \u001b[1;33m=\u001b[0m \u001b[0mmovies_grp_day\u001b[0m\u001b[1;33m[\u001b[0m\u001b[1;34m'Rating'\u001b[0m\u001b[1;33m]\u001b[0m\u001b[1;33m.\u001b[0m\u001b[0mvalues\u001b[0m\u001b[1;33m(\u001b[0m\u001b[1;33m)\u001b[0m\u001b[1;33m\u001b[0m\u001b[1;33m\u001b[0m\u001b[0m\n\u001b[0m\u001b[0;32m      2\u001b[0m \u001b[0mmonday_ratings\u001b[0m\u001b[1;33m\u001b[0m\u001b[1;33m\u001b[0m\u001b[0m\n",
      "\u001b[1;32m~\\anaconda3\\envs\\learn-env\\lib\\site-packages\\pandas\\core\\groupby\\groupby.py\u001b[0m in \u001b[0;36m__getattr__\u001b[1;34m(self, attr)\u001b[0m\n\u001b[0;32m    701\u001b[0m             \u001b[1;32mreturn\u001b[0m \u001b[0mself\u001b[0m\u001b[1;33m[\u001b[0m\u001b[0mattr\u001b[0m\u001b[1;33m]\u001b[0m\u001b[1;33m\u001b[0m\u001b[1;33m\u001b[0m\u001b[0m\n\u001b[0;32m    702\u001b[0m \u001b[1;33m\u001b[0m\u001b[0m\n\u001b[1;32m--> 703\u001b[1;33m         raise AttributeError(\n\u001b[0m\u001b[0;32m    704\u001b[0m             \u001b[1;34mf\"'{type(self).__name__}' object has no attribute '{attr}'\"\u001b[0m\u001b[1;33m\u001b[0m\u001b[1;33m\u001b[0m\u001b[0m\n\u001b[0;32m    705\u001b[0m         )\n",
      "\u001b[1;31mAttributeError\u001b[0m: 'SeriesGroupBy' object has no attribute 'values'"
     ]
    }
   ],
   "source": [
    "monday_ratings = movies_grp_day['Rating'].values()\n",
    "monday_ratings"
   ]
  },
  {
   "cell_type": "code",
   "execution_count": 266,
   "metadata": {},
   "outputs": [
    {
     "data": {
      "text/plain": [
       "['Monday', 'Tuesday', 'Wednesday', 'Thursday', 'Friday', 'Saturday', 'Sunday']"
      ]
     },
     "execution_count": 266,
     "metadata": {},
     "output_type": "execute_result"
    }
   ],
   "source": [
    "labels = ['Monday', 'Tuesday', 'Wednesday', 'Thursday', 'Friday', \"Saturday\", 'Sunday']\n",
    "labels"
   ]
  },
  {
   "cell_type": "code",
   "execution_count": 305,
   "metadata": {},
   "outputs": [
    {
     "ename": "ValueError",
     "evalue": "shape mismatch: objects cannot be broadcast to a single shape",
     "output_type": "error",
     "traceback": [
      "\u001b[1;31m---------------------------------------------------------------------------\u001b[0m",
      "\u001b[1;31mValueError\u001b[0m                                Traceback (most recent call last)",
      "\u001b[1;32m<ipython-input-305-5ea925b859a9>\u001b[0m in \u001b[0;36m<module>\u001b[1;34m\u001b[0m\n\u001b[0;32m      3\u001b[0m \u001b[0mlabels\u001b[0m \u001b[1;33m=\u001b[0m \u001b[1;33m[\u001b[0m\u001b[1;34m'Monday'\u001b[0m\u001b[1;33m,\u001b[0m \u001b[1;34m'Tuesday'\u001b[0m\u001b[1;33m,\u001b[0m \u001b[1;34m'Wednesday'\u001b[0m\u001b[1;33m,\u001b[0m \u001b[1;34m'Thursday'\u001b[0m\u001b[1;33m,\u001b[0m \u001b[1;34m'Friday'\u001b[0m\u001b[1;33m,\u001b[0m \u001b[1;34m\"Saturday\"\u001b[0m\u001b[1;33m,\u001b[0m \u001b[1;34m'Sunday'\u001b[0m\u001b[1;33m]\u001b[0m\u001b[1;33m\u001b[0m\u001b[1;33m\u001b[0m\u001b[0m\n\u001b[0;32m      4\u001b[0m \u001b[1;33m\u001b[0m\u001b[0m\n\u001b[1;32m----> 5\u001b[1;33m \u001b[0mp1\u001b[0m \u001b[1;33m=\u001b[0m \u001b[0max\u001b[0m\u001b[1;33m.\u001b[0m\u001b[0mbar\u001b[0m\u001b[1;33m(\u001b[0m\u001b[0mlabels\u001b[0m\u001b[1;33m,\u001b[0m \u001b[0mmonday_ratings\u001b[0m\u001b[1;33m)\u001b[0m\u001b[1;33m\u001b[0m\u001b[1;33m\u001b[0m\u001b[0m\n\u001b[0m\u001b[0;32m      6\u001b[0m \u001b[1;33m\u001b[0m\u001b[0m\n\u001b[0;32m      7\u001b[0m \u001b[0max\u001b[0m\u001b[1;33m.\u001b[0m\u001b[0mbar\u001b[0m\u001b[1;33m(\u001b[0m\u001b[0mgroups\u001b[0m\u001b[1;33m.\u001b[0m\u001b[0mindex\u001b[0m\u001b[1;33m(\u001b[0m\u001b[1;33m)\u001b[0m\u001b[1;33m)\u001b[0m\u001b[1;33m\u001b[0m\u001b[1;33m\u001b[0m\u001b[0m\n",
      "\u001b[1;32m~\\anaconda3\\envs\\learn-env\\lib\\site-packages\\matplotlib\\__init__.py\u001b[0m in \u001b[0;36minner\u001b[1;34m(ax, data, *args, **kwargs)\u001b[0m\n\u001b[0;32m   1436\u001b[0m     \u001b[1;32mdef\u001b[0m \u001b[0minner\u001b[0m\u001b[1;33m(\u001b[0m\u001b[0max\u001b[0m\u001b[1;33m,\u001b[0m \u001b[1;33m*\u001b[0m\u001b[0margs\u001b[0m\u001b[1;33m,\u001b[0m \u001b[0mdata\u001b[0m\u001b[1;33m=\u001b[0m\u001b[1;32mNone\u001b[0m\u001b[1;33m,\u001b[0m \u001b[1;33m**\u001b[0m\u001b[0mkwargs\u001b[0m\u001b[1;33m)\u001b[0m\u001b[1;33m:\u001b[0m\u001b[1;33m\u001b[0m\u001b[1;33m\u001b[0m\u001b[0m\n\u001b[0;32m   1437\u001b[0m         \u001b[1;32mif\u001b[0m \u001b[0mdata\u001b[0m \u001b[1;32mis\u001b[0m \u001b[1;32mNone\u001b[0m\u001b[1;33m:\u001b[0m\u001b[1;33m\u001b[0m\u001b[1;33m\u001b[0m\u001b[0m\n\u001b[1;32m-> 1438\u001b[1;33m             \u001b[1;32mreturn\u001b[0m \u001b[0mfunc\u001b[0m\u001b[1;33m(\u001b[0m\u001b[0max\u001b[0m\u001b[1;33m,\u001b[0m \u001b[1;33m*\u001b[0m\u001b[0mmap\u001b[0m\u001b[1;33m(\u001b[0m\u001b[0msanitize_sequence\u001b[0m\u001b[1;33m,\u001b[0m \u001b[0margs\u001b[0m\u001b[1;33m)\u001b[0m\u001b[1;33m,\u001b[0m \u001b[1;33m**\u001b[0m\u001b[0mkwargs\u001b[0m\u001b[1;33m)\u001b[0m\u001b[1;33m\u001b[0m\u001b[1;33m\u001b[0m\u001b[0m\n\u001b[0m\u001b[0;32m   1439\u001b[0m \u001b[1;33m\u001b[0m\u001b[0m\n\u001b[0;32m   1440\u001b[0m         \u001b[0mbound\u001b[0m \u001b[1;33m=\u001b[0m \u001b[0mnew_sig\u001b[0m\u001b[1;33m.\u001b[0m\u001b[0mbind\u001b[0m\u001b[1;33m(\u001b[0m\u001b[0max\u001b[0m\u001b[1;33m,\u001b[0m \u001b[1;33m*\u001b[0m\u001b[0margs\u001b[0m\u001b[1;33m,\u001b[0m \u001b[1;33m**\u001b[0m\u001b[0mkwargs\u001b[0m\u001b[1;33m)\u001b[0m\u001b[1;33m\u001b[0m\u001b[1;33m\u001b[0m\u001b[0m\n",
      "\u001b[1;32m~\\anaconda3\\envs\\learn-env\\lib\\site-packages\\matplotlib\\axes\\_axes.py\u001b[0m in \u001b[0;36mbar\u001b[1;34m(self, x, height, width, bottom, align, **kwargs)\u001b[0m\n\u001b[0;32m   2428\u001b[0m                 \u001b[0myerr\u001b[0m \u001b[1;33m=\u001b[0m \u001b[0mself\u001b[0m\u001b[1;33m.\u001b[0m\u001b[0m_convert_dx\u001b[0m\u001b[1;33m(\u001b[0m\u001b[0myerr\u001b[0m\u001b[1;33m,\u001b[0m \u001b[0my0\u001b[0m\u001b[1;33m,\u001b[0m \u001b[0my\u001b[0m\u001b[1;33m,\u001b[0m \u001b[0mself\u001b[0m\u001b[1;33m.\u001b[0m\u001b[0mconvert_yunits\u001b[0m\u001b[1;33m)\u001b[0m\u001b[1;33m\u001b[0m\u001b[1;33m\u001b[0m\u001b[0m\n\u001b[0;32m   2429\u001b[0m \u001b[1;33m\u001b[0m\u001b[0m\n\u001b[1;32m-> 2430\u001b[1;33m         x, height, width, y, linewidth = np.broadcast_arrays(\n\u001b[0m\u001b[0;32m   2431\u001b[0m             \u001b[1;31m# Make args iterable too.\u001b[0m\u001b[1;33m\u001b[0m\u001b[1;33m\u001b[0m\u001b[1;33m\u001b[0m\u001b[0m\n\u001b[0;32m   2432\u001b[0m             np.atleast_1d(x), height, width, y, linewidth)\n",
      "\u001b[1;32m<__array_function__ internals>\u001b[0m in \u001b[0;36mbroadcast_arrays\u001b[1;34m(*args, **kwargs)\u001b[0m\n",
      "\u001b[1;32m~\\anaconda3\\envs\\learn-env\\lib\\site-packages\\numpy\\lib\\stride_tricks.py\u001b[0m in \u001b[0;36mbroadcast_arrays\u001b[1;34m(*args, **kwargs)\u001b[0m\n\u001b[0;32m    262\u001b[0m     \u001b[0margs\u001b[0m \u001b[1;33m=\u001b[0m \u001b[1;33m[\u001b[0m\u001b[0mnp\u001b[0m\u001b[1;33m.\u001b[0m\u001b[0marray\u001b[0m\u001b[1;33m(\u001b[0m\u001b[0m_m\u001b[0m\u001b[1;33m,\u001b[0m \u001b[0mcopy\u001b[0m\u001b[1;33m=\u001b[0m\u001b[1;32mFalse\u001b[0m\u001b[1;33m,\u001b[0m \u001b[0msubok\u001b[0m\u001b[1;33m=\u001b[0m\u001b[0msubok\u001b[0m\u001b[1;33m)\u001b[0m \u001b[1;32mfor\u001b[0m \u001b[0m_m\u001b[0m \u001b[1;32min\u001b[0m \u001b[0margs\u001b[0m\u001b[1;33m]\u001b[0m\u001b[1;33m\u001b[0m\u001b[1;33m\u001b[0m\u001b[0m\n\u001b[0;32m    263\u001b[0m \u001b[1;33m\u001b[0m\u001b[0m\n\u001b[1;32m--> 264\u001b[1;33m     \u001b[0mshape\u001b[0m \u001b[1;33m=\u001b[0m \u001b[0m_broadcast_shape\u001b[0m\u001b[1;33m(\u001b[0m\u001b[1;33m*\u001b[0m\u001b[0margs\u001b[0m\u001b[1;33m)\u001b[0m\u001b[1;33m\u001b[0m\u001b[1;33m\u001b[0m\u001b[0m\n\u001b[0m\u001b[0;32m    265\u001b[0m \u001b[1;33m\u001b[0m\u001b[0m\n\u001b[0;32m    266\u001b[0m     \u001b[1;32mif\u001b[0m \u001b[0mall\u001b[0m\u001b[1;33m(\u001b[0m\u001b[0marray\u001b[0m\u001b[1;33m.\u001b[0m\u001b[0mshape\u001b[0m \u001b[1;33m==\u001b[0m \u001b[0mshape\u001b[0m \u001b[1;32mfor\u001b[0m \u001b[0marray\u001b[0m \u001b[1;32min\u001b[0m \u001b[0margs\u001b[0m\u001b[1;33m)\u001b[0m\u001b[1;33m:\u001b[0m\u001b[1;33m\u001b[0m\u001b[1;33m\u001b[0m\u001b[0m\n",
      "\u001b[1;32m~\\anaconda3\\envs\\learn-env\\lib\\site-packages\\numpy\\lib\\stride_tricks.py\u001b[0m in \u001b[0;36m_broadcast_shape\u001b[1;34m(*args)\u001b[0m\n\u001b[0;32m    189\u001b[0m     \u001b[1;31m# use the old-iterator because np.nditer does not handle size 0 arrays\u001b[0m\u001b[1;33m\u001b[0m\u001b[1;33m\u001b[0m\u001b[1;33m\u001b[0m\u001b[0m\n\u001b[0;32m    190\u001b[0m     \u001b[1;31m# consistently\u001b[0m\u001b[1;33m\u001b[0m\u001b[1;33m\u001b[0m\u001b[1;33m\u001b[0m\u001b[0m\n\u001b[1;32m--> 191\u001b[1;33m     \u001b[0mb\u001b[0m \u001b[1;33m=\u001b[0m \u001b[0mnp\u001b[0m\u001b[1;33m.\u001b[0m\u001b[0mbroadcast\u001b[0m\u001b[1;33m(\u001b[0m\u001b[1;33m*\u001b[0m\u001b[0margs\u001b[0m\u001b[1;33m[\u001b[0m\u001b[1;33m:\u001b[0m\u001b[1;36m32\u001b[0m\u001b[1;33m]\u001b[0m\u001b[1;33m)\u001b[0m\u001b[1;33m\u001b[0m\u001b[1;33m\u001b[0m\u001b[0m\n\u001b[0m\u001b[0;32m    192\u001b[0m     \u001b[1;31m# unfortunately, it cannot handle 32 or more arguments directly\u001b[0m\u001b[1;33m\u001b[0m\u001b[1;33m\u001b[0m\u001b[1;33m\u001b[0m\u001b[0m\n\u001b[0;32m    193\u001b[0m     \u001b[1;32mfor\u001b[0m \u001b[0mpos\u001b[0m \u001b[1;32min\u001b[0m \u001b[0mrange\u001b[0m\u001b[1;33m(\u001b[0m\u001b[1;36m32\u001b[0m\u001b[1;33m,\u001b[0m \u001b[0mlen\u001b[0m\u001b[1;33m(\u001b[0m\u001b[0margs\u001b[0m\u001b[1;33m)\u001b[0m\u001b[1;33m,\u001b[0m \u001b[1;36m31\u001b[0m\u001b[1;33m)\u001b[0m\u001b[1;33m:\u001b[0m\u001b[1;33m\u001b[0m\u001b[1;33m\u001b[0m\u001b[0m\n",
      "\u001b[1;31mValueError\u001b[0m: shape mismatch: objects cannot be broadcast to a single shape"
     ]
    },
    {
     "data": {
      "image/png": "[encoded data removed]",
      "text/plain": [
       "<Figure size 432x288 with 1 Axes>"
      ]
     },
     "metadata": {
      "needs_background": "light"
     },
     "output_type": "display_data"
    }
   ],
   "source": [
    "fig, ax = plt.subplots()\n",
    "\n",
    "labels = ['Monday', 'Tuesday', 'Wednesday', 'Thursday', 'Friday', \"Saturday\", 'Sunday']\n",
    "\n",
    "p1 = ax.bar(labels, monday_ratings)\n",
    "\n",
    "ax.bar(groups.index())\n",
    "ax.set_xlabel('Day')\n",
    "ax.set_ylabel('Count of Movies Shown')\n",
    "ax.set_title('Chicago Moves in the Park by Day and Rating')"
   ]
  },
  {
   "cell_type": "code",
   "execution_count": null,
   "metadata": {},
   "outputs": [],
   "source": []
  }
 ],
 "metadata": {
  "kernelspec": {
   "display_name": "Python 3",
   "language": "python",
   "name": "python3"
  },
  "language_info": {
   "codemirror_mode": {
    "name": "ipython",
    "version": 3
   },
   "file_extension": ".py",
   "mimetype": "text/x-python",
   "name": "python",
   "nbconvert_exporter": "python",
   "pygments_lexer": "ipython3",
   "version": "3.8.5"
  }
 },
 "nbformat": 4,
 "nbformat_minor": 4
}
